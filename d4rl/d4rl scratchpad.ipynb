{
 "cells": [
  {
   "cell_type": "code",
   "execution_count": 2,
   "id": "ebf0e55a",
   "metadata": {},
   "outputs": [],
   "source": [
    "import os; os.environ[\"D4RL_SUPPRESS_IMPORT_ERROR\"] = \"1\""
   ]
  },
  {
   "cell_type": "code",
   "execution_count": 3,
   "id": "a40e83b9",
   "metadata": {},
   "outputs": [],
   "source": [
    "import gym\n",
    "from d4rl.pointmaze import waypoint_controller\n",
    "from d4rl.pointmaze import maze_model\n",
    "import numpy as np\n",
    "import h5py\n",
    "import argparse\n",
    "\n",
    "\n",
    "def reset_data():\n",
    "    return {'observations': [],\n",
    "            'actions': [],\n",
    "            'terminals': [],\n",
    "            'rewards': [],\n",
    "            'infos/goal': [],\n",
    "            'infos/qpos': [],\n",
    "            'infos/qvel': [],\n",
    "            'infos/start': [],\n",
    "            }\n",
    "\n",
    "\n",
    "def append_data(data, s, a, tgt, done, env_data, start, reward):\n",
    "    data['observations'].append(s)\n",
    "    data['actions'].append(a)\n",
    "    data['rewards'].append(reward)\n",
    "    data['terminals'].append(done)\n",
    "    data['infos/goal'].append(tgt)\n",
    "    data['infos/qpos'].append(env_data.qpos.ravel().copy())\n",
    "    data['infos/qvel'].append(env_data.qvel.ravel().copy())\n",
    "    data['infos/start'].append(start)       \n",
    "\n",
    "    \n",
    "def npify(data):\n",
    "    for k in data:\n",
    "        if k == 'terminals':\n",
    "            dtype = np.bool_\n",
    "        else:\n",
    "            dtype = np.float32\n",
    "\n",
    "        data[k] = np.array(data[k], dtype=dtype)\n",
    "    \n",
    "    \n",
    "def generate_starts_and_targets(env_name, n_traj):\n",
    "    env = gym.make(env_name)\n",
    "    maze = env.str_maze_spec\n",
    "    env = maze_model.MazeEnv(maze)       \n",
    "    \n",
    "    starts_and_targets = []\n",
    "    for _ in range(n_traj):\n",
    "        s = env.reset()\n",
    "        start = s[0:2]\n",
    "        env.set_target()\n",
    "        target = env._target\n",
    "        starts_and_targets.append([start, target])\n",
    "    starts_and_targets = np.array(starts_and_targets)\n",
    "    \n",
    "    fname = f'st-{env_name}-{n_traj}.hdf5'\n",
    "    with h5py.File(fname, \"w\") as f:\n",
    "        f.create_dataset(\"starts_and_targets\", data=starts_and_targets)\n",
    "    \n",
    "    \n",
    "def set_loc(self, location):\n",
    "    qpos = location\n",
    "    qvel = self.init_qvel\n",
    "    self.set_state(qpos, qvel)\n",
    "\n",
    "maze_model.MazeEnv.set_loc = set_loc"
   ]
  },
  {
   "cell_type": "code",
   "execution_count": 4,
   "id": "14bb359f",
   "metadata": {},
   "outputs": [],
   "source": [
    "env_name = 'maze2d-large-dense-v1'\n",
    "n_traj = 10\n",
    "generate_starts_and_targets(env_name, n_traj)"
   ]
  },
  {
   "cell_type": "code",
   "execution_count": 5,
   "id": "0f112aa9",
   "metadata": {},
   "outputs": [
    {
     "name": "stdout",
     "output_type": "stream",
     "text": [
      "'d4rl scratchpad.ipynb'   st-maze2d-large-dense-v1-10.hdf5\r\n"
     ]
    }
   ],
   "source": [
    "!ls"
   ]
  },
  {
   "cell_type": "code",
   "execution_count": null,
   "id": "050acd5e",
   "metadata": {},
   "outputs": [],
   "source": [
    "class WaypointControllerWrapper(waypoint_controller.WaypointController):\n",
    "    def __init__(self, **kwargs):\n",
    "        self.env = kwargs['env']\n",
    "        del kwargs['env']\n",
    "        super().__init__(**kwargs)\n",
    "\n",
    "class RandomController(WaypointControllerWrapper):\n",
    "        \n",
    "    def get_action(self, location, velocity, target):\n",
    "        _, done = super().get_action(location, velocity, target)\n",
    "        action = self.env.action_space.sample()\n",
    "        return action, done\n",
    "    \n",
    "class NoisyWaypointController(WaypointControllerWrapper):\n",
    "    \n",
    "    def get_action(self, location, velocity, target):\n",
    "        action, done = super().get_action(location, velocity, target)\n",
    "        action = np.clip(action + np.random.randn(*action.shape) * 0.5, -1.0, 1.0)\n",
    "        return action, done"
   ]
  },
  {
   "cell_type": "code",
   "execution_count": null,
   "id": "f0f0cb69",
   "metadata": {},
   "outputs": [],
   "source": [
    "def main():\n",
    "    parser = argparse.ArgumentParser()\n",
    "    parser.add_argument('--render', action='store_true', help='Render trajectories')\n",
    "    parser.add_argument('--env_name', type=str, default='maze2d-large-dense-v1', help='Maze type')\n",
    "    parser.add_argument('--starts_and_targets_path', type=str, required=True, help='Path to starts and targets file')\n",
    "    parser.add_argument('--controller_type', type=str, default='random', choices=['waypoint', 'waypoint_noisy', 'random'])\n",
    "    parser.add_argument('--reward_type', type=str, default='dense', choices=['dense', 'sparse'])\n",
    "\n",
    "    args = parser.parse_args(args=['--controller_type', 'waypoint', \n",
    "                                   '--starts_and_targets_path', 'st-maze2d-large-dense-v1-10.hdf5'])\n",
    "    \n",
    "    with h5py.File(args.starts_and_targets_path, \"r\") as f:\n",
    "        starts_and_targets = f['starts_and_targets'][:]\n",
    "        \n",
    "    env = gym.make(args.env_name)\n",
    "    maze = env.str_maze_spec\n",
    "    # max_episode_steps = env._max_episode_steps\n",
    "\n",
    "    env = maze_model.MazeEnv(maze_spec=maze, reward_type=args.reward_type)\n",
    "                        \n",
    "    if args.controller_type == 'waypoint':\n",
    "        controller = WaypointControllerWrapper(maze_str=maze, env=env)\n",
    "    elif args.controller_type == 'waypoint_noisy':\n",
    "        controller = NoisyWaypointController(maze_str=maze, env=env)\n",
    "    elif args.controller_type == 'random':\n",
    "        controller = RandomController(maze_str=maze, env=env)\n",
    "    else:\n",
    "        raise ValueError(\"controller not supported\")\n",
    "      \n",
    "    data = reset_data()\n",
    "    \n",
    "    for i in range(starts_and_targets.shape[0]):\n",
    "        \n",
    "        start, target = starts_and_targets[i]\n",
    "        env.set_loc(start)\n",
    "        env.set_target(target)\n",
    "        \n",
    "        s = env._get_obs()\n",
    "        assert np.allclose(env.sim.data.qpos, start) and np.allclose(start, s[0:2])\n",
    "        assert np.allclose(env._target, target)\n",
    "        \n",
    "        act = env.action_space.sample()\n",
    "        done = False\n",
    "        ts = 0\n",
    "        \n",
    "        while(True):\n",
    "            position = s[0:2]\n",
    "            velocity = s[2:4]\n",
    "            act, done = controller.get_action(position, velocity, env._target)\n",
    "            ns, reward, _, _ = env.step(act)\n",
    "            ts += 1\n",
    "\n",
    "            append_data(data, s, act, env._target, done, env.sim.data, start, reward)\n",
    "           \n",
    "            if args.render:\n",
    "                env.render()\n",
    "    \n",
    "            if done:\n",
    "                break\n",
    "\n",
    "            else:\n",
    "                s = ns         \n",
    "\n",
    "    fname = f'{args.env_name}-{args.controller_type}.hdf5'\n",
    "    dataset = h5py.File(fname, 'w')\n",
    "    npify(data)\n",
    "    for k in data:\n",
    "        dataset.create_dataset(k, data=data[k], compression='gzip')\n",
    "\n",
    "\n",
    "# if __name__ == \"__main__\":\n",
    "#     main()\n",
    "main()"
   ]
  },
  {
   "cell_type": "code",
   "execution_count": null,
   "id": "2452791a",
   "metadata": {},
   "outputs": [],
   "source": [
    "!ls *.hdf5"
   ]
  },
  {
   "cell_type": "code",
   "execution_count": null,
   "id": "b8289550",
   "metadata": {},
   "outputs": [],
   "source": [
    "env_name = 'maze2d-large-dense-v1'\n",
    "env = gym.make(env_name)\n",
    "controller_type = 'random'\n",
    "fname = f'{env_name}-{controller_type}.hdf5'\n",
    "data = env.get_dataset(h5path=fname)"
   ]
  },
  {
   "cell_type": "code",
   "execution_count": null,
   "id": "7f713d1c",
   "metadata": {
    "scrolled": true
   },
   "outputs": [],
   "source": [
    "print(data.keys())"
   ]
  },
  {
   "cell_type": "code",
   "execution_count": null,
   "id": "ebdb373d",
   "metadata": {},
   "outputs": [],
   "source": [
    "print(np.array2string(np.unique(data['infos/start'], axis=0), precision=2))\n",
    "print(np.array2string(np.unique(data['infos/goal'], axis=0), precision=2))"
   ]
  },
  {
   "cell_type": "code",
   "execution_count": null,
   "id": "29310176",
   "metadata": {},
   "outputs": [],
   "source": [
    "l = 0\n",
    "starts = data['infos/start']\n",
    "targets = data['infos/goal']\n",
    "for i in range(1, len(starts)):\n",
    "    if np.allclose(starts[i], starts[i-1]):\n",
    "        l+=1\n",
    "    else:\n",
    "        print(f\"start: {np.array2string(starts[i-1], precision=2)} target: {np.array2string(targets[i-1], precision=2)}, length: {l}\")\n",
    "        l=0\n",
    "print(f\"start: {np.array2string(starts[len(starts)-1], precision=2)} target: {np.array2string(targets[len(starts)-1], precision=2)}, length: {l}\")"
   ]
  },
  {
   "cell_type": "code",
   "execution_count": null,
   "id": "fd62ff8f",
   "metadata": {
    "scrolled": true
   },
   "outputs": [],
   "source": [
    "for i in range(len(data['infos/start'])):\n",
    "    for key in ['infos/start', 'infos/qpos', 'infos/goal']:\n",
    "        print(np.array2string(data[key][i], precision=2), end=\" \")\n",
    "    print()"
   ]
  },
  {
   "cell_type": "code",
   "execution_count": null,
   "id": "9d1bc59c",
   "metadata": {},
   "outputs": [],
   "source": [
    "data['observations'][:,:2]"
   ]
  }
 ],
 "metadata": {
  "kernelspec": {
   "display_name": "Python 3 (ipykernel)",
   "language": "python",
   "name": "python3"
  },
  "language_info": {
   "codemirror_mode": {
    "name": "ipython",
    "version": 3
   },
   "file_extension": ".py",
   "mimetype": "text/x-python",
   "name": "python",
   "nbconvert_exporter": "python",
   "pygments_lexer": "ipython3",
   "version": "3.8.3"
  }
 },
 "nbformat": 4,
 "nbformat_minor": 5
}
